{
 "cells": [
  {
   "cell_type": "code",
   "execution_count": 1,
   "metadata": {},
   "outputs": [
    {
     "name": "stderr",
     "output_type": "stream",
     "text": [
      "Using TensorFlow backend.\n"
     ]
    }
   ],
   "source": [
    "import numpy as np\n",
    "import pandas as pd\n",
    "from sklearn.model_selection import train_test_split\n",
    "from keras.utils import to_categorical\n",
    "import keras\n",
    "from keras.layers.normalization import BatchNormalization\n",
    "from keras.models import Sequential\n",
    "from keras.layers import Dense, Dropout, Flatten\n",
    "from keras.layers import Conv2D, MaxPooling2D\n",
    "from keras.optimizers import Adam\n",
    "from keras.callbacks import ReduceLROnPlateau\n",
    "from keras.losses import categorical_crossentropy\n",
    "from keras.optimizers import RMSprop"
   ]
  },
  {
   "cell_type": "code",
   "execution_count": 2,
   "metadata": {},
   "outputs": [],
   "source": [
    "data_train = pd.read_csv('fashionmnist/fashion-mnist_train.csv')\n",
    "data_test = pd.read_csv('fashionmnist/fashion-mnist_test.csv')"
   ]
  },
  {
   "cell_type": "code",
   "execution_count": 3,
   "metadata": {},
   "outputs": [],
   "source": [
    "X = np.array(data_train.iloc[:,1:]) # X - train images\n",
    "y = to_categorical(np.array(data_train.iloc[:,0])) # Y - train labels"
   ]
  },
  {
   "cell_type": "code",
   "execution_count": 4,
   "metadata": {},
   "outputs": [],
   "source": [
    "X_train, X_val, y_train, y_val = train_test_split(X, y, test_size=0.2) #splitting train and val data "
   ]
  },
  {
   "cell_type": "code",
   "execution_count": 5,
   "metadata": {},
   "outputs": [],
   "source": [
    "X_test = np.array(data_test.iloc[:, 1:]) # test images\n",
    "y_test = to_categorical(np.array(data_test.iloc[:, 0])) # test labels"
   ]
  },
  {
   "cell_type": "code",
   "execution_count": 6,
   "metadata": {},
   "outputs": [],
   "source": [
    "img_rows, img_cols = 28,28\n",
    "input_shape = (img_rows,img_cols,1)"
   ]
  },
  {
   "cell_type": "code",
   "execution_count": 7,
   "metadata": {},
   "outputs": [],
   "source": [
    "X_train = X_train.reshape(X_train.shape[0],img_rows,img_cols,1)\n",
    "X_train = X_train/255"
   ]
  },
  {
   "cell_type": "code",
   "execution_count": 8,
   "metadata": {},
   "outputs": [],
   "source": [
    "X_test = X_test.reshape(X_test.shape[0],img_rows,img_cols,1)\n",
    "X_test = X_test/255"
   ]
  },
  {
   "cell_type": "code",
   "execution_count": 9,
   "metadata": {},
   "outputs": [],
   "source": [
    "X_val = X_val.reshape(X_val.shape[0], img_rows, img_cols, 1)\n",
    "X_val = X_val/255"
   ]
  },
  {
   "cell_type": "code",
   "execution_count": null,
   "metadata": {},
   "outputs": [],
   "source": []
  },
  {
   "cell_type": "code",
   "execution_count": 10,
   "metadata": {},
   "outputs": [],
   "source": [
    "model = Sequential()\n",
    "\n",
    "model.add(Conv2D(64, kernel_size=(3,3), activation=\"relu\", input_shape=input_shape))\n",
    "model.add(MaxPooling2D((2,2)))\n",
    "model.add(BatchNormalization())\n",
    "model.add(Dropout(0.25))\n",
    "\n",
    "model.add(Flatten())\n",
    "\n",
    "model.add(Dense(256, activation=\"relu\"))\n",
    "model.add(Dropout(0.25))\n",
    "model.add(Dense(10, activation=\"softmax\"))"
   ]
  },
  {
   "cell_type": "code",
   "execution_count": 11,
   "metadata": {},
   "outputs": [],
   "source": [
    "model.compile(loss=\"categorical_crossentropy\", optimizer=\"Adam\", metrics=['accuracy'])"
   ]
  },
  {
   "cell_type": "code",
   "execution_count": 12,
   "metadata": {},
   "outputs": [
    {
     "name": "stdout",
     "output_type": "stream",
     "text": [
      "_________________________________________________________________\n",
      "Layer (type)                 Output Shape              Param #   \n",
      "=================================================================\n",
      "conv2d_1 (Conv2D)            (None, 26, 26, 64)        640       \n",
      "_________________________________________________________________\n",
      "max_pooling2d_1 (MaxPooling2 (None, 13, 13, 64)        0         \n",
      "_________________________________________________________________\n",
      "batch_normalization_1 (Batch (None, 13, 13, 64)        256       \n",
      "_________________________________________________________________\n",
      "dropout_1 (Dropout)          (None, 13, 13, 64)        0         \n",
      "_________________________________________________________________\n",
      "flatten_1 (Flatten)          (None, 10816)             0         \n",
      "_________________________________________________________________\n",
      "dense_1 (Dense)              (None, 256)               2769152   \n",
      "_________________________________________________________________\n",
      "dropout_2 (Dropout)          (None, 256)               0         \n",
      "_________________________________________________________________\n",
      "dense_2 (Dense)              (None, 10)                2570      \n",
      "=================================================================\n",
      "Total params: 2,772,618\n",
      "Trainable params: 2,772,490\n",
      "Non-trainable params: 128\n",
      "_________________________________________________________________\n"
     ]
    }
   ],
   "source": [
    "model.summary()"
   ]
  },
  {
   "cell_type": "code",
   "execution_count": null,
   "metadata": {},
   "outputs": [],
   "source": []
  },
  {
   "cell_type": "code",
   "execution_count": 13,
   "metadata": {},
   "outputs": [
    {
     "name": "stdout",
     "output_type": "stream",
     "text": [
      "Train on 48000 samples, validate on 12000 samples\n",
      "Epoch 1/30\n",
      "48000/48000 [==============================] - 56s 1ms/step - loss: 0.4812 - acc: 0.8453 - val_loss: 0.3061 - val_acc: 0.8861\n",
      "Epoch 2/30\n",
      "48000/48000 [==============================] - 56s 1ms/step - loss: 0.2701 - acc: 0.9020 - val_loss: 0.2734 - val_acc: 0.8992\n",
      "Epoch 3/30\n",
      "48000/48000 [==============================] - 57s 1ms/step - loss: 0.2202 - acc: 0.9194 - val_loss: 0.2555 - val_acc: 0.9107\n",
      "Epoch 4/30\n",
      "48000/48000 [==============================] - 57s 1ms/step - loss: 0.1891 - acc: 0.9293 - val_loss: 0.2598 - val_acc: 0.9114\n",
      "Epoch 5/30\n",
      "48000/48000 [==============================] - 57s 1ms/step - loss: 0.1661 - acc: 0.9384 - val_loss: 0.2619 - val_acc: 0.9125\n",
      "Epoch 6/30\n",
      "48000/48000 [==============================] - 58s 1ms/step - loss: 0.1515 - acc: 0.9432 - val_loss: 0.2674 - val_acc: 0.9141\n",
      "Epoch 7/30\n",
      "48000/48000 [==============================] - 57s 1ms/step - loss: 0.1322 - acc: 0.9492 - val_loss: 0.2824 - val_acc: 0.9107\n",
      "Epoch 8/30\n",
      "48000/48000 [==============================] - 58s 1ms/step - loss: 0.1223 - acc: 0.9541 - val_loss: 0.2862 - val_acc: 0.9150\n",
      "Epoch 9/30\n",
      "48000/48000 [==============================] - 58s 1ms/step - loss: 0.1080 - acc: 0.9603 - val_loss: 0.3032 - val_acc: 0.9113\n",
      "Epoch 10/30\n",
      "48000/48000 [==============================] - 58s 1ms/step - loss: 0.0993 - acc: 0.9635 - val_loss: 0.3149 - val_acc: 0.9133\n",
      "Epoch 11/30\n",
      "48000/48000 [==============================] - 58s 1ms/step - loss: 0.0972 - acc: 0.9646 - val_loss: 0.3197 - val_acc: 0.9116\n",
      "Epoch 12/30\n",
      "48000/48000 [==============================] - 59s 1ms/step - loss: 0.0913 - acc: 0.9659 - val_loss: 0.3043 - val_acc: 0.9143\n",
      "Epoch 13/30\n",
      "48000/48000 [==============================] - 58s 1ms/step - loss: 0.0828 - acc: 0.9691 - val_loss: 0.3520 - val_acc: 0.9104\n",
      "Epoch 14/30\n",
      "48000/48000 [==============================] - 58s 1ms/step - loss: 0.0785 - acc: 0.9710 - val_loss: 0.3255 - val_acc: 0.9163\n",
      "Epoch 15/30\n",
      "48000/48000 [==============================] - 58s 1ms/step - loss: 0.0728 - acc: 0.9734 - val_loss: 0.3435 - val_acc: 0.9146\n",
      "Epoch 16/30\n",
      "48000/48000 [==============================] - 58s 1ms/step - loss: 0.0676 - acc: 0.9750 - val_loss: 0.3439 - val_acc: 0.9148\n",
      "Epoch 17/30\n",
      "48000/48000 [==============================] - 59s 1ms/step - loss: 0.0676 - acc: 0.9750 - val_loss: 0.3714 - val_acc: 0.9132\n",
      "Epoch 18/30\n",
      "48000/48000 [==============================] - 58s 1ms/step - loss: 0.0619 - acc: 0.9773 - val_loss: 0.3702 - val_acc: 0.9133\n",
      "Epoch 19/30\n",
      "48000/48000 [==============================] - 58s 1ms/step - loss: 0.0610 - acc: 0.9782 - val_loss: 0.3705 - val_acc: 0.9122\n",
      "Epoch 20/30\n",
      "48000/48000 [==============================] - 58s 1ms/step - loss: 0.0570 - acc: 0.9797 - val_loss: 0.3606 - val_acc: 0.9161\n",
      "Epoch 21/30\n",
      "48000/48000 [==============================] - 58s 1ms/step - loss: 0.0531 - acc: 0.9806 - val_loss: 0.3916 - val_acc: 0.9160\n",
      "Epoch 22/30\n",
      "48000/48000 [==============================] - 58s 1ms/step - loss: 0.0490 - acc: 0.9821 - val_loss: 0.4123 - val_acc: 0.9113\n",
      "Epoch 23/30\n",
      "48000/48000 [==============================] - 58s 1ms/step - loss: 0.0551 - acc: 0.9791 - val_loss: 0.3901 - val_acc: 0.9166\n",
      "Epoch 24/30\n",
      "48000/48000 [==============================] - 59s 1ms/step - loss: 0.0511 - acc: 0.9814 - val_loss: 0.3857 - val_acc: 0.9163\n",
      "Epoch 25/30\n",
      "48000/48000 [==============================] - 58s 1ms/step - loss: 0.0501 - acc: 0.9824 - val_loss: 0.4047 - val_acc: 0.9162\n",
      "Epoch 26/30\n",
      "48000/48000 [==============================] - 58s 1ms/step - loss: 0.0482 - acc: 0.9829 - val_loss: 0.4133 - val_acc: 0.9121\n",
      "Epoch 27/30\n",
      "48000/48000 [==============================] - 59s 1ms/step - loss: 0.0450 - acc: 0.9839 - val_loss: 0.4393 - val_acc: 0.9146\n",
      "Epoch 28/30\n",
      "48000/48000 [==============================] - 58s 1ms/step - loss: 0.0433 - acc: 0.9842 - val_loss: 0.4149 - val_acc: 0.9167\n",
      "Epoch 29/30\n",
      "48000/48000 [==============================] - 58s 1ms/step - loss: 0.0453 - acc: 0.9830 - val_loss: 0.4465 - val_acc: 0.9142\n",
      "Epoch 30/30\n",
      "48000/48000 [==============================] - 58s 1ms/step - loss: 0.0411 - acc: 0.9857 - val_loss: 0.4556 - val_acc: 0.9148\n"
     ]
    }
   ],
   "source": [
    "train1 = model.fit(X_train,y_train, batch_size=256, epochs=30, validation_data=(X_val, y_val))"
   ]
  },
  {
   "cell_type": "code",
   "execution_count": 14,
   "metadata": {},
   "outputs": [
    {
     "name": "stdout",
     "output_type": "stream",
     "text": [
      "Test loss: 0.4220308536624536\n",
      "Test accuracy: 0.9189\n"
     ]
    }
   ],
   "source": [
    "score1 = model.evaluate(X_test, y_test, verbose=0)\n",
    "print('Test loss:', score1[0])\n",
    "print('Test accuracy:', score1[1])"
   ]
  },
  {
   "cell_type": "code",
   "execution_count": 15,
   "metadata": {},
   "outputs": [],
   "source": [
    "import matplotlib.pyplot as plt\n",
    "%matplotlib inline"
   ]
  },
  {
   "cell_type": "code",
   "execution_count": 16,
   "metadata": {},
   "outputs": [],
   "source": [
    "acc = train1.history['acc']\n",
    "val_acc = train1.history['val_acc']\n",
    "loss = train1.history['loss']\n",
    "val_loss = train1.history['val_loss']\n",
    "epochs = range(len(acc))"
   ]
  },
  {
   "cell_type": "code",
   "execution_count": 17,
   "metadata": {},
   "outputs": [
    {
     "data": {
      "image/png": "[encoded data removed]",
      "text/plain": [
       "<Figure size 432x288 with 1 Axes>"
      ]
     },
     "metadata": {},
     "output_type": "display_data"
    },
    {
     "data": {
      "image/png": "[encoded data removed]",
      "text/plain": [
       "<Figure size 432x288 with 1 Axes>"
      ]
     },
     "metadata": {},
     "output_type": "display_data"
    }
   ],
   "source": [
    "plt.plot(epochs, acc, 'bo', label='Training accuracy')\n",
    "plt.plot(epochs, val_acc, 'b', label='Validation accuracy')\n",
    "plt.title('Training-validation accuracy')\n",
    "plt.legend()\n",
    "plt.figure()\n",
    "\n",
    "\n",
    "plt.plot(epochs, loss, 'bo', label='Training loss')\n",
    "plt.plot(epochs, val_loss, 'b', label='Validation loss')\n",
    "plt.title('Training-validation loss')\n",
    "plt.legend()\n",
    "plt.show()\n"
   ]
  },
  {
   "cell_type": "code",
   "execution_count": 18,
   "metadata": {},
   "outputs": [],
   "source": [
    "# get the predictions for the test data\n",
    "predicted_classes = model.predict_classes(X_test)\n",
    "\n",
    "# get the indices to be plotted\n",
    "y_true = data_test.iloc[:, 0]\n",
    "correct = np.nonzero(predicted_classes==y_true)[0]\n",
    "incorrect = np.nonzero(predicted_classes!=y_true)[0]"
   ]
  },
  {
   "cell_type": "code",
   "execution_count": 19,
   "metadata": {},
   "outputs": [
    {
     "name": "stdout",
     "output_type": "stream",
     "text": [
      "             precision    recall  f1-score   support\n",
      "\n",
      "    Class 0       0.84      0.90      0.87      1000\n",
      "    Class 1       0.99      0.98      0.99      1000\n",
      "    Class 2       0.88      0.87      0.88      1000\n",
      "    Class 3       0.93      0.93      0.93      1000\n",
      "    Class 4       0.86      0.90      0.88      1000\n",
      "    Class 5       0.99      0.97      0.98      1000\n",
      "    Class 6       0.83      0.72      0.77      1000\n",
      "    Class 7       0.96      0.96      0.96      1000\n",
      "    Class 8       0.95      0.99      0.97      1000\n",
      "    Class 9       0.95      0.98      0.96      1000\n",
      "\n",
      "avg / total       0.92      0.92      0.92     10000\n",
      "\n"
     ]
    }
   ],
   "source": [
    "from sklearn.metrics import classification_report\n",
    "target_names = [\"Class {}\".format(i) for i in range(10)]\n",
    "print(classification_report(y_true, predicted_classes, target_names=target_names))"
   ]
  },
  {
   "cell_type": "code",
   "execution_count": null,
   "metadata": {},
   "outputs": [],
   "source": []
  },
  {
   "cell_type": "code",
   "execution_count": null,
   "metadata": {},
   "outputs": [],
   "source": []
  },
  {
   "cell_type": "code",
   "execution_count": null,
   "metadata": {},
   "outputs": [],
   "source": []
  },
  {
   "cell_type": "code",
   "execution_count": null,
   "metadata": {},
   "outputs": [],
   "source": []
  }
 ],
 "metadata": {
  "kernelspec": {
   "display_name": "Python 3",
   "language": "python",
   "name": "python3"
  },
  "language_info": {
   "codemirror_mode": {
    "name": "ipython",
    "version": 3
   },
   "file_extension": ".py",
   "mimetype": "text/x-python",
   "name": "python",
   "nbconvert_exporter": "python",
   "pygments_lexer": "ipython3",
   "version": "3.6.5"
  }
 },
 "nbformat": 4,
 "nbformat_minor": 2
}
